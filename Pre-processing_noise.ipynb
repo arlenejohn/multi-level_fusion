{
 "cells": [
  {
   "cell_type": "code",
   "execution_count": 1,
   "id": "0c3878c2",
   "metadata": {},
   "outputs": [],
   "source": [
    "import numpy as np\n",
    "import pandas as pd\n",
    "from mat4py import loadmat\n",
    "from sklearn.model_selection import train_test_split\n",
    "from sklearn.metrics import confusion_matrix, accuracy_score\n",
    "from sklearn import metrics\n",
    "from sklearn.utils import resample\n",
    "from scipy import signal\n",
    "import os\n",
    "from scipy.linalg import circulant\n",
    "import matplotlib.pyplot as plt\n",
    "import random\n",
    "import scipy"
   ]
  },
  {
   "cell_type": "code",
   "execution_count": 2,
   "id": "53299e93",
   "metadata": {},
   "outputs": [],
   "source": [
    "def csqi_calc(signal,signal_samplingrate,curve,curvefreq):\n",
    "    #function to calculate curve matching sqi\n",
    "    #signal - single channel signal\n",
    "    #signal_samplingrate - sampling frequency of the signal\n",
    "    #  curve - curve against which correlation of each heartbeat section\n",
    "    #is compared.\n",
    "    # curvefreq - sampling rate of the curve\n",
    "\n",
    "\n",
    "    if np.sum(signal)==0:\n",
    "        sqi=np.empty((1, signal.shape[1]))\n",
    "        c_sqi=np.empty((1, signal.shape[1]))\n",
    "    else:\n",
    "        Fs=signal_samplingrate;\n",
    "        if signal.shape[0]!=1:\n",
    "            signal=signal.transpose()\n",
    "            signal=np.reshape(signal, (1, -1))\n",
    "    \n",
    "        sqi=np.zeros((1, signal.shape[1]))\n",
    "        c_sqi=np.zeros((1, signal.shape[1]))\n",
    "        if Fs!=curvefreq:\n",
    "            curve = scipy.signal.resample_poly(curve,Fs,curvefreq);\n",
    "        window_size=len(curve);\n",
    "        signal2=np.hstack((np.fliplr(np.reshape(signal[0,0:round(window_size/2)],(1,-1))),signal,np.fliplr(np.reshape(signal[0,(len(signal)-round(window_size/2)):signal.shape[1]],(1,-1)))));#mirroring signal towards the beginning and end\n",
    "\n",
    "        k=0;\n",
    "        x=curve.transpose()\n",
    "        y=np.fliplr(x)\n",
    "        y=np.hstack((y,np.zeros((1,window_size-1))))\n",
    "        P=circulant(y[0,:])\n",
    "        P=P.transpose()\n",
    "        P=P[0:window_size,:]\n",
    "        lag=np.arange(-(window_size-1),window_size)\n",
    "    \n",
    "    \n",
    "        #window=np.hstack((np.reshape(signal2[0, max(0,k-round(window_size/2)+1):k],(1,-1)),np.reshape(signal2[:,k],(1,-1)),np.reshape(signal2[0, k+1:min(k+round(window_size/2)-1,signal2.shape[1])],(1,-1)))) #mirroring signal towards the beginning and end\n",
    "        window=np.hstack((np.reshape(signal2[0, max(0,k-round(window_size/2)+1):k+1],(1,-1)),np.reshape(signal2[:,k],(1,-1)),np.reshape(signal2[0, k+1:min(k+round(window_size/2)-1,signal2.shape[1])],(1,-1)))) #mirroring signal towards the beginning and end\n",
    "    \n",
    "        if (k-round(window_size/2))<0:\n",
    "            window=np.hstack((np.zeros((1,round(window_size/2)-k)),window))\n",
    "    \n",
    "    \n",
    "        if (k+round(window_size/2))>signal2.shape[1]:\n",
    "            window=np.hstack((window, np.zeros((1,(window_size-window.shape[1])))))\n",
    "    \n",
    "        window1=np.diag(window[0,:]);\n",
    "        tot=np.matmul(window1,P)\n",
    "        total=np.sum(tot,axis=0);\n",
    "        total1=np.fliplr(np.reshape(total,(1,-1)))\n",
    "        total1=total1[0,:]\n",
    "        I=np.argmax(total1)\n",
    "        \n",
    "        beg_last=window[0,0]\n",
    "        correction=lag[I]\n",
    "        corrected_curve=np.roll(curve.transpose()[0,:],-correction)\n",
    "        diff=np.var(corrected_curve-window)\n",
    "        c_sqi[0,k]=diff;\n",
    "        \n",
    "        if c_sqi[0,k]!=0:\n",
    "            sqi[0,k]=1/c_sqi[0,k]\n",
    "        else:\n",
    "            sqi[0,k]=0.014;\n",
    "    \n",
    "        if sqi[0,k]<0: #limiting negative SQI values to 0.0001\n",
    "            sqi[0,k]=0\n",
    "            \n",
    "        \n",
    "    \n",
    "    \n",
    "\n",
    "\n",
    "        for k in range(1,signal2.shape[1]):\n",
    "            window=window[:,1:]\n",
    "        \n",
    "        \n",
    "            if (round(window_size/2)+k-1>signal2.shape[1]):\n",
    "                window=np.hstack((window, np.zeros((1,(window_size-window.shape[1])))))\n",
    "            else:\n",
    "                window=np.hstack((window,np.reshape(signal2[:,round(window_size/2)+k-2],(1,-1))))\n",
    "            \n",
    "        \n",
    "            last_term=window[0,-1];\n",
    "            new_row=last_term*P[-1,:];\n",
    "            first_row=beg_last*P[0,:];\n",
    "            total=total-first_row;\n",
    "            total=np.roll(total,-1);\n",
    "            total=total+new_row;\n",
    "            beg_last=window[0,0];\n",
    "            total1=np.fliplr(np.reshape(total,(1,-1)));\n",
    "            total1=total1[0,:]\n",
    "            I=np.argmax(total1)\n",
    "            correction=lag[I];\n",
    "            corrected_curve=np.roll(curve.transpose()[0,:],-correction);\n",
    "            diff=np.var(corrected_curve-window)\n",
    "            \n",
    "            if k>=signal.shape[1]:\n",
    "                \n",
    "                c_sqi=np.hstack((c_sqi,np.reshape(diff,(1,-1))))\n",
    "                if c_sqi[0,k]!=0:\n",
    "                    sqi=np.hstack((sqi,np.reshape(1/c_sqi[0,k],(1,-1))))\n",
    "                else:\n",
    "                    sqi=np.hstack((sqi,np.reshape(0.014,(1,-1))))\n",
    "            else:\n",
    "                c_sqi[0,k]=diff\n",
    "                if c_sqi[0,k]!=0:\n",
    "                    sqi[0,k]=1/c_sqi[0,k]\n",
    "                else:\n",
    "                    sqi[0,k]=0.014;\n",
    "    \n",
    "            if sqi[0,k]<0: #limiting negative SQI values to 0.0001\n",
    "                sqi[0,k]=0\n",
    "        \n",
    "\n",
    "        sqi=sqi[:,round((sqi.shape[1]-signal.shape[1])/2)+1:round((sqi.shape[1]+signal.shape[1])/2)+1];\n",
    "    return sqi\n",
    "\n"
   ]
  },
  {
   "cell_type": "code",
   "execution_count": 3,
   "id": "e3594e11",
   "metadata": {},
   "outputs": [],
   "source": [
    "valid_features1=np.zeros((1, 2500))\n",
    "valid_features2=np.zeros((1, 2500))\n",
    "test_features1=np.zeros((1, 2500))\n",
    "test_features2=np.zeros((1, 2500))\n",
    "\n",
    "true_folder='D:\\PhD topics\\Datasets\\Afib_datasets\\selected_dataset\\Afib\\selected_signals\\split'\n",
    "file_list=os.listdir(true_folder)\n",
    "\n",
    "for i in file_list:\n",
    "    if i.endswith(\".mat\") & (\"ecg\" in i) & (\"valid\" in i):\n",
    "        record = loadmat(true_folder+'\\\\'+i)\n",
    "        ecg_valid = np.array(record['ecg_valid'])\n",
    "        valid_features1=np.append(valid_features1,ecg_valid,axis=0)\n",
    "    \n",
    "    if i.endswith(\".mat\") & (\"spo2\" in i) & (\"valid\" in i):\n",
    "        record = loadmat(true_folder+'\\\\'+i)\n",
    "        spo2_valid = np.array(record['spo2_valid'])\n",
    "        valid_features2=np.append(valid_features2,spo2_valid,axis=0)\n",
    "        \n",
    "    if i.endswith(\".mat\") & (\"ecg\" in i) & (\"test\" in i):\n",
    "        record = loadmat(true_folder+'\\\\'+i)\n",
    "        ecg_test = np.array(record['ecg_test'])\n",
    "        test_features1=np.append(test_features1,ecg_test,axis=0)\n",
    "    \n",
    "    if i.endswith(\".mat\") & (\"spo2\" in i) & (\"test\" in i):\n",
    "        record = loadmat(true_folder+'\\\\'+i)\n",
    "        spo2_test = np.array(record['spo2_test'])\n",
    "        test_features2=np.append(test_features2,spo2_test,axis=0)\n",
    "        \n",
    "\n",
    "\n",
    "ecg_valid_true=valid_features1[1:]\n",
    "spo2_valid_true=valid_features2[1:]\n",
    "ecg_test_true=test_features1[1:]\n",
    "spo2_test_true=test_features2[1:]\n",
    "labels_valid_true=np.ones((len(ecg_valid_true),1))\n",
    "labels_test_true=np.ones((len(ecg_test_true),1))"
   ]
  },
  {
   "cell_type": "code",
   "execution_count": 4,
   "id": "2790c4b8",
   "metadata": {},
   "outputs": [],
   "source": [
    "valid_features1=np.zeros((1, 2500))\n",
    "valid_features2=np.zeros((1, 2500))\n",
    "test_features1=np.zeros((1, 2500))\n",
    "test_features2=np.zeros((1, 2500))\n",
    "\n",
    "false_folder=\"D:\\\\PhD topics\\\\Datasets\\\\Afib_datasets\\\\selected_dataset\\\\Normal\\\\selected_signals\\\\split\"\n",
    "file_list=os.listdir(false_folder)\n",
    "\n",
    "for i in file_list:\n",
    "    if i.endswith(\".mat\") & (\"ecg\" in i) & (\"valid\" in i):\n",
    "        record = loadmat(false_folder+'\\\\'+i)\n",
    "        ecg_valid = np.array(record['ecg_valid'])\n",
    "        if len(ecg_valid)!=0:\n",
    "            valid_features1=np.append(valid_features1,ecg_valid,axis=0)\n",
    "    \n",
    "    if i.endswith(\".mat\") & (\"spo2\" in i) & (\"valid\" in i):\n",
    "        record = loadmat(false_folder+'\\\\'+i)\n",
    "        spo2_valid = np.array(record['spo2_valid'])\n",
    "        if len(spo2_valid)!=0:\n",
    "            valid_features2=np.append(valid_features2,spo2_valid,axis=0)\n",
    "        \n",
    "    if i.endswith(\".mat\") & (\"ecg\" in i) & (\"test\" in i):\n",
    "        record = loadmat(false_folder+'\\\\'+i)\n",
    "        ecg_test = np.array(record['ecg_test'])\n",
    "        if len(ecg_test)!=0:\n",
    "            test_features1=np.append(test_features1,ecg_test,axis=0)\n",
    "    \n",
    "    if i.endswith(\".mat\") & (\"spo2\" in i) & (\"test\" in i):\n",
    "        record = loadmat(false_folder+'\\\\'+i)\n",
    "        spo2_test = np.array(record['spo2_test'])\n",
    "        if len(spo2_test)!=0:\n",
    "            test_features2=np.append(test_features2,spo2_test,axis=0)\n",
    "        \n",
    "\n",
    "\n",
    "ecg_valid_false=valid_features1[1:]\n",
    "spo2_valid_false=valid_features2[1:]\n",
    "ecg_test_false=test_features1[1:]\n",
    "spo2_test_false=test_features2[1:]\n",
    "labels_valid_false=np.zeros((len(ecg_valid_false),1))\n",
    "labels_test_false=np.zeros((len(ecg_test_false),1))"
   ]
  },
  {
   "cell_type": "code",
   "execution_count": 5,
   "id": "5017eca3",
   "metadata": {},
   "outputs": [],
   "source": [
    "train_features1=np.zeros((1, 2500))\n",
    "train_features2=np.zeros((1, 2500))\n",
    "\n",
    "\n",
    "true_folder='D:\\PhD topics\\Datasets\\Afib_datasets\\selected_dataset\\Afib\\selected_signals\\split'\n",
    "file_list=os.listdir(true_folder)\n",
    "\n",
    "for i in file_list:\n",
    "    if i.endswith(\".mat\") & (\"ecg\" in i) & (\"train\" in i):\n",
    "        record = loadmat(true_folder+'\\\\'+i)\n",
    "        ecg_train = np.array(record['ecg_train'])\n",
    "        if len(ecg_train)!=0:\n",
    "            train_features1=np.append(train_features1,ecg_train,axis=0)\n",
    "    \n",
    "    if i.endswith(\".mat\") & (\"spo2\" in i) & (\"train\" in i):\n",
    "        record = loadmat(true_folder+'\\\\'+i)\n",
    "        spo2_train = np.array(record['spo2_train'])\n",
    "        if len(spo2_train)!=0:\n",
    "            train_features2=np.append(train_features2,spo2_train,axis=0)\n",
    "        \n",
    "ecg_train_true=train_features1[1:]\n",
    "spo2_train_true=train_features2[1:]\n",
    "labels_train_true=np.ones((len(ecg_train_true),1))"
   ]
  },
  {
   "cell_type": "code",
   "execution_count": 6,
   "id": "1aa93e7c",
   "metadata": {},
   "outputs": [],
   "source": [
    "train_features1=np.zeros((1, 2500))\n",
    "train_features2=np.zeros((1, 2500))\n",
    "\n",
    "\n",
    "false_folder='D:\\\\PhD topics\\\\Datasets\\\\Afib_datasets\\\\selected_dataset\\\\Normal\\\\selected_signals\\\\split'\n",
    "file_list=os.listdir(false_folder)\n",
    "\n",
    "for i in file_list:\n",
    "    if i.endswith(\".mat\") & (\"ecg\" in i) & (\"train\" in i):\n",
    "        record = loadmat(false_folder+'\\\\'+i)\n",
    "        ecg_train = np.array(record['ecg_train'])\n",
    "        if len(ecg_train)!=0:\n",
    "            train_features1=np.append(train_features1,ecg_train,axis=0)\n",
    "    \n",
    "    if i.endswith(\".mat\") & (\"spo2\" in i) & (\"train\" in i):\n",
    "        record = loadmat(false_folder+'\\\\'+i)\n",
    "        spo2_train = np.array(record['spo2_train'])\n",
    "        if len(spo2_train)!=0:\n",
    "            train_features2=np.append(train_features2,spo2_train,axis=0)\n",
    "        \n",
    "ecg_train_false=train_features1[1:]\n",
    "spo2_train_false=train_features2[1:]\n",
    "labels_train_false=np.zeros((len(ecg_train_false),1))"
   ]
  },
  {
   "cell_type": "code",
   "execution_count": 7,
   "id": "e60654c4",
   "metadata": {},
   "outputs": [],
   "source": [
    "features_train_true=np.append(ecg_train_true,spo2_train_true, axis=1) \n",
    "features_train_false=np.append(ecg_train_false,spo2_train_false, axis=1)\n",
    "X_train=np.append(features_train_true,features_train_false, axis=0)\n",
    "y_train=np.append(labels_train_true, labels_train_false, axis=0)"
   ]
  },
  {
   "cell_type": "code",
   "execution_count": 8,
   "id": "6ed7b2ec",
   "metadata": {},
   "outputs": [],
   "source": [
    "features_valid_true=np.append(ecg_valid_true,spo2_valid_true, axis=1) \n",
    "features_valid_false=np.append(ecg_valid_false,spo2_valid_false, axis=1)\n",
    "X_valid=np.append(features_valid_true,features_valid_false, axis=0)\n",
    "y_valid=np.append(labels_valid_true, labels_valid_false, axis=0)"
   ]
  },
  {
   "cell_type": "code",
   "execution_count": 9,
   "id": "1fe65cda",
   "metadata": {},
   "outputs": [],
   "source": [
    "features_test_true=np.append(ecg_test_true,spo2_test_true, axis=1) \n",
    "features_test_false=np.append(ecg_test_false,spo2_test_false, axis=1)\n",
    "X_test=np.append(features_test_true,features_test_false, axis=0)\n",
    "y_test=np.append(labels_test_true, labels_test_false, axis=0)"
   ]
  },
  {
   "cell_type": "code",
   "execution_count": 10,
   "id": "3affb070",
   "metadata": {},
   "outputs": [
    {
     "data": {
      "text/plain": [
       "array([[ 0.08503848,  0.0841321 ,  0.08277254, ...,  0.0592067 ,\n",
       "         0.06056627,  0.06192584],\n",
       "       [ 0.06645773,  0.06645773,  0.06645773, ...,  0.07280238,\n",
       "         0.07144281,  0.06963005],\n",
       "       [ 0.07053643,  0.07098962,  0.07053643, ...,  0.06328541,\n",
       "         0.06464497,  0.06509816],\n",
       "       ...,\n",
       "       [ 0.07733586,  0.10131326,  0.12529067, ..., -0.04734665,\n",
       "        -0.02336924,  0.00780138],\n",
       "       [-0.28712069, -0.17922237, -0.11688112, ...,  0.26435961,\n",
       "         0.83022636,  0.89976083],\n",
       "       [-0.24875685, -0.51970152, -0.56765633, ...,  0.05335845,\n",
       "         0.03897201, -0.03775569]])"
      ]
     },
     "execution_count": 10,
     "metadata": {},
     "output_type": "execute_result"
    }
   ],
   "source": [
    "ecg_train_true"
   ]
  },
  {
   "cell_type": "code",
   "execution_count": 11,
   "id": "5667ab62",
   "metadata": {},
   "outputs": [],
   "source": [
    "def scale_mul(signals,mul,diff):\n",
    "    \n",
    "    signal_copy=signals.copy()\n",
    "    return signal_copy*mul\n",
    "\n",
    "def shift_add(signals,addi,diff):\n",
    "    \n",
    "    signal_copy=signals.copy()\n",
    "    return signal_copy+addi\n",
    "\n",
    "def add_noise_white(signals_copy):\n",
    "    SNR_dB=-20\n",
    "    \n",
    "    for i in range(len(signals_copy)):\n",
    "        squares=np.linalg.norm(signals_copy[i,:],2)**2\n",
    "        variance=squares/(10**(SNR_dB/10))\n",
    "        k=(variance - 0) * np.random.random_sample(1) \n",
    "        nois=np.random.normal(size=len(signals_copy[i,:]))\n",
    "        nois=(nois-np.mean(nois))/np.linalg.norm(nois,2)\n",
    "        signals_copy[i,:]=signals_copy[i,:]+np.sqrt(k)*nois\n",
    "    return signals_copy\n",
    "\n",
    "class augment_class_simult:\n",
    "    \n",
    "    \n",
    "                \n",
    "                \n",
    "        \n",
    "    def add_gaus(self, signals_copy):\n",
    "        if self.both:\n",
    "            aug=signals_copy\n",
    "            aug_signal_1=signals_copy[:,0:round((signals_copy.shape[1])/2)]\n",
    "            aug_signal_2=signals_copy[:,round((signals_copy.shape[1])/2):signals_copy.shape[1]]\n",
    "            aug_signal_1=add_noise_white(aug_signal_1)\n",
    "            aug_signal_2=add_noise_white(aug_signal_2)\n",
    "            aug[:,0:round((signals_copy.shape[1])/2)]=aug_signal_1\n",
    "            aug[:,round((signals_copy.shape[1])/2):signals_copy.shape[1]]=aug_signal_2\n",
    "            \n",
    "            \n",
    "        else:\n",
    "            \n",
    "            aug_signals=signals_copy\n",
    "            aug=add_noise_white(aug_signals)\n",
    "        return aug\n",
    "    \n",
    "    \n",
    "    \n",
    "    def addnoise(self,signals, label, diff):\n",
    "        self.label=label\n",
    "        if diff>signals.shape[0]:\n",
    "            rem=signals.shape[0]\n",
    "            signals=np.append(signals,signals, axis=0)\n",
    "            rec=random.sample(range(signals.shape[0]), abs(diff-rem))\n",
    "            signals_add=signals[rec,:]\n",
    "                \n",
    "        else:\n",
    "            rec=random.sample(range(signals.shape[0]), diff)   \n",
    "            signals_add=signals[rec,:]\n",
    "                \n",
    "        signals=np.append(signals,signals_add, axis=0) \n",
    "            \n",
    "        self.signals=signals\n",
    "        self.label=label\n",
    "        rec=random.sample(range(signals.shape[0]), signals.shape[0]) \n",
    "        add_ecg=rec[0:round(0.25*signals.shape[0])]\n",
    "        add_ppg=rec[round(0.25*signals.shape[0]): round(0.5*signals.shape[0])]\n",
    "        add_both= rec[round(0.5*signals.shape[0]): round(0.75*signals.shape[0])]\n",
    "        \n",
    "        self.both=False\n",
    "        aug_sig= self.add_gaus(self.signals[add_ecg,0:round((self.signals.shape[1])/2)])\n",
    "        self.signals[add_ecg,0:round((self.signals.shape[1])/2)] = aug_sig\n",
    "        \n",
    "        aug_sig= self.add_gaus(self.signals[add_ppg,round((self.signals.shape[1])/2):self.signals.shape[1]])\n",
    "        self.signals[add_ppg,round((self.signals.shape[1])/2):self.signals.shape[1]] = aug_sig\n",
    "        \n",
    "        self.both=True\n",
    "        aug_sig= self.add_gaus(self.signals[add_both,])\n",
    "        self.signals[add_both,] = aug_sig\n",
    "        \n",
    "        self.both=False\n",
    "            \n",
    "            \n",
    "        if self.label==0:\n",
    "            labels=np.zeros((self.signals.shape[0]))\n",
    "        if self.label==1:\n",
    "            labels=np.ones((self.signals.shape[0]))\n",
    "        return self.signals, labels"
   ]
  },
  {
   "cell_type": "code",
   "execution_count": 12,
   "id": "5c3b83cd",
   "metadata": {},
   "outputs": [],
   "source": [
    "aug_class=augment_class_simult()"
   ]
  },
  {
   "cell_type": "code",
   "execution_count": 13,
   "id": "9e06113a",
   "metadata": {
    "scrolled": true
   },
   "outputs": [],
   "source": [
    "features_train_true_aug, labels_true_train=aug_class.addnoise(features_train_true,1, abs(features_train_true.shape[0]-features_train_false.shape[0]))"
   ]
  },
  {
   "cell_type": "code",
   "execution_count": 14,
   "id": "52b7dd7c",
   "metadata": {},
   "outputs": [
    {
     "data": {
      "text/plain": [
       "[<matplotlib.lines.Line2D at 0x222b7e25cf8>]"
      ]
     },
     "execution_count": 14,
     "metadata": {},
     "output_type": "execute_result"
    },
    {
     "data": {
      "image/png": "[encoded data removed]",
      "text/plain": [
       "<Figure size 1440x720 with 1 Axes>"
      ]
     },
     "metadata": {
      "needs_background": "light"
     },
     "output_type": "display_data"
    }
   ],
   "source": [
    "import matplotlib.pyplot as plt\n",
    "\n",
    "plt.figure(figsize=(20,10))\n",
    "plt.plot(features_train_true_aug[789,:])"
   ]
  },
  {
   "cell_type": "code",
   "execution_count": 15,
   "id": "8e1eef67",
   "metadata": {},
   "outputs": [],
   "source": [
    "features_train_false_aug, labels_false_train=aug_class.addnoise(features_train_false,0, 0)"
   ]
  },
  {
   "cell_type": "code",
   "execution_count": 16,
   "id": "3ea076f9",
   "metadata": {},
   "outputs": [],
   "source": [
    "X_train=np.append(features_train_true_aug,features_train_false_aug, axis=0) \n",
    "y_train=np.append(labels_true_train,labels_false_train,axis=0)"
   ]
  },
  {
   "cell_type": "code",
   "execution_count": 17,
   "id": "174b3863",
   "metadata": {},
   "outputs": [],
   "source": [
    "features_valid_true_aug, labels_true_valid=aug_class.addnoise(features_valid_true,1, abs(features_valid_true.shape[0]-features_valid_false.shape[0]))\n",
    "features_valid_false_aug, labels_false_valid=aug_class.addnoise(features_valid_false,0, 0)\n",
    "\n",
    "X_valid=np.append(features_valid_true_aug,features_valid_false_aug, axis=0) \n",
    "y_valid=np.append(labels_true_valid,labels_false_valid,axis=0)"
   ]
  },
  {
   "cell_type": "code",
   "execution_count": 18,
   "id": "c3aa3283",
   "metadata": {},
   "outputs": [],
   "source": [
    "features_test_true_aug, labels_true_test=aug_class.addnoise(features_test_true,1, 0)\n",
    "features_test_false_aug, labels_false_test=aug_class.addnoise(features_test_false,0, 0)\n",
    "\n",
    "\n",
    "X_test=np.append(features_test_true_aug,features_test_false_aug, axis=0) \n",
    "y_test=np.append(labels_true_test,labels_false_test,axis=0)"
   ]
  },
  {
   "cell_type": "code",
   "execution_count": 19,
   "id": "3ee297dd",
   "metadata": {},
   "outputs": [],
   "source": [
    "ecg_train=X_train[:,0:round(X_train.shape[1]/2)]\n",
    "ppg_train=X_train[:,round(X_train.shape[1]/2):X_train.shape[1]]\n",
    "\n",
    "ecg_valid=X_valid[:,0:round(X_valid.shape[1]/2)]\n",
    "ppg_valid=X_valid[:,round(X_valid.shape[1]/2):X_valid.shape[1]]\n",
    "\n",
    "ecg_test=X_test[:,0:round(X_test.shape[1]/2)]\n",
    "ppg_test=X_test[:,round(X_test.shape[1]/2):X_test.shape[1]]"
   ]
  },
  {
   "cell_type": "code",
   "execution_count": 20,
   "id": "9046fee6",
   "metadata": {},
   "outputs": [],
   "source": [
    "overall_mean=np.nanmean(ecg_train)\n",
    "ecg_train[np.isnan(ecg_train)]=overall_mean\n",
    "ecg_valid[np.isnan(ecg_valid)]=overall_mean\n",
    "ecg_test[np.isnan(ecg_test)]=overall_mean\n",
    "\n",
    "\n",
    "ecg_train_mean=np.nanmean(ecg_train, axis=0)\n",
    "ecg_train_std=np.nanstd(ecg_train, axis=0)\n",
    "\n",
    "for i in range(ecg_train.shape[0]):\n",
    "    ecg_train[i,:]=(ecg_train[i,:]-ecg_train_mean)/ecg_train_std\n",
    "    \n",
    "for i in range(ecg_valid.shape[0]):\n",
    "    ecg_valid[i,:]=(ecg_valid[i,:]-ecg_train_mean)/ecg_train_std\n",
    "    \n",
    "for i in range(ecg_test.shape[0]):\n",
    "    ecg_test[i,:]=(ecg_test[i,:]-ecg_train_mean)/ecg_train_std"
   ]
  },
  {
   "cell_type": "code",
   "execution_count": 21,
   "id": "81f04f36",
   "metadata": {},
   "outputs": [
    {
     "data": {
      "text/plain": [
       "array([[ 0.45358528,  0.1565292 , -0.01524796, ..., -0.5757209 ,\n",
       "        -0.05410589,  0.00796164],\n",
       "       [ 0.05570021,  0.05570021,  0.0551619 , ...,  0.05946842,\n",
       "         0.05946842,  0.05946842],\n",
       "       [-0.20405583,  0.13428271,  0.48177133, ...,  0.17207052,\n",
       "        -0.02573702, -0.12836381],\n",
       "       ...,\n",
       "       [-0.27934129, -0.29917745, -0.31534025, ..., -0.80316283,\n",
       "        -0.80610152, -0.8119789 ],\n",
       "       [ 0.04538398,  0.13427936,  0.22758278, ..., -0.60700526,\n",
       "        -0.62243338, -0.63712683],\n",
       "       [ 7.46263956, -7.08538793, -5.57498295, ...,  2.7486915 ,\n",
       "        -1.11628461,  2.82382157]])"
      ]
     },
     "execution_count": 21,
     "metadata": {},
     "output_type": "execute_result"
    }
   ],
   "source": [
    "ppg_test"
   ]
  },
  {
   "cell_type": "code",
   "execution_count": 22,
   "id": "98613b38",
   "metadata": {},
   "outputs": [],
   "source": [
    "ppg_train_mean=np.mean(ppg_train)\n",
    "ppg_train_std=np.std(ppg_train)\n",
    "\n",
    "for i in range(ppg_train.shape[0]):\n",
    "    ppg_train[i,:]=(ppg_train[i,:]-ppg_train_mean)/ppg_train_std\n",
    "    \n",
    "for i in range(ppg_valid.shape[0]):\n",
    "    ppg_valid[i,:]=(ppg_valid[i,:]-ppg_train_mean)/ppg_train_std\n",
    "    \n",
    "for i in range(ppg_test.shape[0]):\n",
    "    ppg_test[i,:]=(ppg_test[i,:]-ppg_train_mean)/ppg_train_std"
   ]
  },
  {
   "cell_type": "code",
   "execution_count": 23,
   "id": "1b36a2e2",
   "metadata": {
    "scrolled": true
   },
   "outputs": [],
   "source": [
    "ECG = loadmat('D:\\\\PhD topics\\\\Datasets\\\\training\\\\training\\\\ecg_template.mat')\n",
    "ECG=ECG['ECG']\n",
    "ecgcurve=np.array(ECG['curve'])\n",
    "curvefreq=ECG['Fs']\n",
    "\n",
    "\n",
    "ecg_sqi_train=np.zeros((ecg_train.shape))\n",
    "for i in range(len(ecg_train)):\n",
    "    ecg_sqi_train[i,:]=csqi_calc(ecg_train[i,:],125,ecgcurve,curvefreq)"
   ]
  },
  {
   "cell_type": "code",
   "execution_count": 24,
   "id": "b18fb8ce",
   "metadata": {},
   "outputs": [],
   "source": [
    "ecg_sqi_valid=np.zeros((ecg_valid.shape))\n",
    "for i in range(len(ecg_valid)):\n",
    "    ecg_sqi_valid[i,:]=csqi_calc(ecg_valid[i,:],125,ecgcurve,curvefreq)"
   ]
  },
  {
   "cell_type": "code",
   "execution_count": 25,
   "id": "0757c57e",
   "metadata": {},
   "outputs": [],
   "source": [
    "ecg_sqi_test=np.zeros((ecg_test.shape))\n",
    "for i in range(len(ecg_test)):\n",
    "    ecg_sqi_test[i,:]=csqi_calc(ecg_test[i,:],125,ecgcurve,curvefreq)"
   ]
  },
  {
   "cell_type": "code",
   "execution_count": 26,
   "id": "0200e824",
   "metadata": {},
   "outputs": [],
   "source": [
    "PPG = loadmat('D:\\\\PhD topics\\\\Datasets\\\\training\\\\training\\\\ppg_template.mat')\n",
    "PPG=PPG['PPG']\n",
    "ppgcurve=np.array(PPG['curve'])\n",
    "curvefreq=PPG['Fs']\n",
    "\n",
    "ppg_sqi_train=np.zeros((ppg_train.shape))\n",
    "for i in range(len(ppg_train)):\n",
    "    ppg_sqi_train[i,:]=csqi_calc(ppg_train[i,:],125,ppgcurve,curvefreq)\n",
    "    \n",
    "    \n",
    "ppg_sqi_valid=np.zeros((ppg_valid.shape))\n",
    "for i in range(len(ppg_valid)):\n",
    "    ppg_sqi_valid[i,:]=csqi_calc(ppg_valid[i,:],125,ppgcurve,curvefreq)\n",
    "    "
   ]
  },
  {
   "cell_type": "code",
   "execution_count": 27,
   "id": "2db9b2b3",
   "metadata": {},
   "outputs": [],
   "source": [
    "ppg_sqi_test=np.zeros((ppg_test.shape))\n",
    "for i in range(len(ppg_test)):\n",
    "    ppg_sqi_test[i,:]=csqi_calc(ppg_test[i,:],125,ppgcurve,curvefreq)"
   ]
  },
  {
   "cell_type": "code",
   "execution_count": 29,
   "id": "b15b3a3c",
   "metadata": {},
   "outputs": [],
   "source": [
    "import pickle"
   ]
  },
  {
   "cell_type": "code",
   "execution_count": 30,
   "id": "0d96fd3b",
   "metadata": {},
   "outputs": [],
   "source": [
    "input_dictionary = {'ecg_train': ecg_train, 'ppg_train': ppg_train, 'ecg_valid': ecg_valid,\n",
    "                    'ppg_valid': ppg_valid, 'ecg_test': ecg_test,\n",
    "                    'ppg_test': ppg_test, 'y_train': y_train, 'y_valid': y_valid, 'y_test': y_test, 'ecg_sqi_train':ecg_sqi_train,\n",
    "                   'ppg_sqi_train':ppg_sqi_train, 'ecg_sqi_valid':ecg_sqi_valid,'ppg_sqi_valid':ppg_sqi_valid, \n",
    "                    'ecg_sqi_test':ecg_sqi_test,'ppg_sqi_test':ppg_sqi_test }\n",
    "            \n",
    "file = open('D:\\PhD topics\\Datasets\\Afib_datasets\\store_noise_one_mean_final2_-20.pkl', 'wb')\n",
    "pickle.dump(input_dictionary, file, protocol=4)\n",
    "file.close()"
   ]
  },
  {
   "cell_type": "code",
   "execution_count": null,
   "id": "8fa875f1",
   "metadata": {},
   "outputs": [],
   "source": []
  }
 ],
 "metadata": {
  "kernelspec": {
   "display_name": "Python 3",
   "language": "python",
   "name": "python3"
  },
  "language_info": {
   "codemirror_mode": {
    "name": "ipython",
    "version": 3
   },
   "file_extension": ".py",
   "mimetype": "text/x-python",
   "name": "python",
   "nbconvert_exporter": "python",
   "pygments_lexer": "ipython3",
   "version": "3.6.13"
  }
 },
 "nbformat": 4,
 "nbformat_minor": 5
}
